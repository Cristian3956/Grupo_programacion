{
  "nbformat": 4,
  "nbformat_minor": 0,
  "metadata": {
    "colab": {
      "provenance": [],
      "collapsed_sections": [],
      "include_colab_link": true
    },
    "kernelspec": {
      "name": "python3",
      "display_name": "Python 3"
    },
    "language_info": {
      "name": "python"
    }
  },
  "cells": [
    {
      "cell_type": "markdown",
      "metadata": {
        "id": "view-in-github",
        "colab_type": "text"
      },
      "source": [
        "<a href=\"https://colab.research.google.com/github/Cristian3956/Grupo_programacion/blob/main/QUIZ_G_2_11_NOV.ipynb\" target=\"_parent\"><img src=\"https://colab.research.google.com/assets/colab-badge.svg\" alt=\"Open In Colab\"/></a>"
      ]
    },
    {
      "cell_type": "code",
      "execution_count": 1,
      "metadata": {
        "id": "jzsKuN9KvWnD"
      },
      "outputs": [],
      "source": [
        "import json\n",
        "import requests\n",
        "from pprint import pprint"
      ]
    },
    {
      "cell_type": "code",
      "source": [
        "from google.colab import drive\n",
        "drive.mount('/content/drive')"
      ],
      "metadata": {
        "id": "Lf5d-IBxrbQt"
      },
      "execution_count": null,
      "outputs": []
    },
    {
      "cell_type": "code",
      "source": [
        "formato=requests.get(\"https://fp.josedomingo.org/lmgs/u05/ej2.json\")\n",
        "pruebas=json.loads(formato.text)\n",
        "pprint(pruebas)"
      ],
      "metadata": {
        "id": "j4UOIePKv1PB",
        "outputId": "0f6fd6e2-1072-48fc-f11f-59dbf32b3eb7",
        "colab": {
          "base_uri": "https://localhost:8080/"
        }
      },
      "execution_count": 2,
      "outputs": [
        {
          "output_type": "stream",
          "name": "stdout",
          "text": [
            "[{'$id': '1',\n",
            "  'Categoria': 'Zona Metropolitana',\n",
            "  'ECTS': None,\n",
            "  'FinImparticion': '2015-02-06T00:00:00',\n",
            "  'Horario': None,\n",
            "  'Horas': 2,\n",
            "  'ID': 'A15050163',\n",
            "  'InicioImparticion': '2015-01-09T00:00:00',\n",
            "  'MCER': None,\n",
            "  'Nivel': 'Prueba de nivel - Para cursos segundo cuatrimestre',\n",
            "  'Profesorado': [{'$id': '2', 'NombreCompleto': 'Reinhard Dlugay'}],\n",
            "  'TipoFormacion': 'NoPresencial',\n",
            "  'Titulo': 'Alemán - Prueba de nivel - Para cursos segundo cuatrimestre',\n",
            "  'URL': 'https://sede.fg.ull.es/es/idioma/detalle/A15050163/aleman-prueba-de-nivel-para-cursos-segundo-cuatrimestre'},\n",
            " {'$id': '3',\n",
            "  'Categoria': 'Zona Metropolitana',\n",
            "  'ECTS': None,\n",
            "  'FinImparticion': '2015-02-05T00:00:00',\n",
            "  'Horario': None,\n",
            "  'Horas': 2,\n",
            "  'ID': 'A15050167',\n",
            "  'InicioImparticion': '2015-01-09T00:00:00',\n",
            "  'MCER': None,\n",
            "  'Nivel': 'Prueba de nivel - Para cursos segundo cuatrimestre',\n",
            "  'Profesorado': [{'$id': '4', 'NombreCompleto': 'Beatriz Hernández Bravo'}],\n",
            "  'TipoFormacion': 'No Presencial',\n",
            "  'Titulo': 'Español - Prueba de nivel - Para cursos segundo cuatrimestre',\n",
            "  'URL': 'https://sede.fg.ull.es/es/idioma/detalle/A15050167/espa-ol-prueba-de-nivel-para-cursos-segundo-cuatrimestre'},\n",
            " {'$id': '5',\n",
            "  'Categoria': 'Zona Metropolitana',\n",
            "  'ECTS': None,\n",
            "  'FinImparticion': '2015-02-05T00:00:00',\n",
            "  'Horario': None,\n",
            "  'Horas': 1,\n",
            "  'ID': 'A15050162',\n",
            "  'InicioImparticion': '2015-01-07T00:00:00',\n",
            "  'MCER': None,\n",
            "  'Nivel': 'Prueba de nivel - Para cursos segundo cuatrimestre',\n",
            "  'Profesorado': [{'$id': '6', 'NombreCompleto': 'Marie-Morgane Le Folgoc'}],\n",
            "  'TipoFormacion': 'Presencial',\n",
            "  'Titulo': 'Francés - Prueba de nivel - Para cursos segundo cuatrimestre',\n",
            "  'URL': 'https://sede.fg.ull.es/es/idioma/detalle/A15050162/frances-prueba-de-nivel-para-cursos-segundo-cuatrimestre'},\n",
            " {'$id': '7',\n",
            "  'Categoria': 'Zona Metropolitana',\n",
            "  'ECTS': None,\n",
            "  'FinImparticion': '2015-03-03T00:00:00',\n",
            "  'Horario': None,\n",
            "  'Horas': 4,\n",
            "  'ID': 'A15050182',\n",
            "  'InicioImparticion': '2015-02-10T00:00:00',\n",
            "  'MCER': None,\n",
            "  'Nivel': 'Prueba de nivel - para cursos de Inglés para la Docencia y '\n",
            "           'preparatorio de GESE Trinity',\n",
            "  'Profesorado': [{'$id': '8', 'NombreCompleto': 'María Luisa Capón Mouriz'}],\n",
            "  'TipoFormacion': 'Presencial',\n",
            "  'Titulo': 'Inglés - Prueba de nivel - para cursos de Inglés para la Docencia '\n",
            "            'y preparatorio de GESE Trinity',\n",
            "  'URL': 'https://sede.fg.ull.es/es/idioma/detalle/A15050182/ingles-prueba-de-nivel-para-cursos-de-ingles-para-la-docencia-y-preparatorio-de-gese-trinity'},\n",
            " {'$id': '9',\n",
            "  'Categoria': 'Zona Metropolitana',\n",
            "  'ECTS': None,\n",
            "  'FinImparticion': '2015-02-12T00:00:00',\n",
            "  'Horario': None,\n",
            "  'Horas': 3,\n",
            "  'ID': 'A15050007',\n",
            "  'InicioImparticion': '2015-01-09T00:00:00',\n",
            "  'MCER': None,\n",
            "  'Nivel': 'Prueba de nivel - Para cursos segundo cuatrimestre',\n",
            "  'Profesorado': [{'$id': '10', 'NombreCompleto': 'María Luisa Capón Mouriz'},\n",
            "                  {'$id': '11', 'NombreCompleto': 'Richard James Murison'},\n",
            "                  {'$id': '12',\n",
            "                   'NombreCompleto': 'María Isabel Rodríguez Rodríguez'},\n",
            "                  {'$id': '13', 'NombreCompleto': 'Beatriz Freire Betancor'},\n",
            "                  {'$id': '14',\n",
            "                   'NombreCompleto': 'Peggy Gerd Henriksson Carlsson'},\n",
            "                  {'$id': '15',\n",
            "                   'NombreCompleto': 'Eva Miriam Amaral Ribeiro Sampaio de '\n",
            "                                     'Andrade'},\n",
            "                  {'$id': '16', 'NombreCompleto': 'Marta María González Orta'}],\n",
            "  'TipoFormacion': 'Presencial',\n",
            "  'Titulo': 'Inglés - Prueba de nivel - Para cursos segundo cuatrimestre',\n",
            "  'URL': 'https://sede.fg.ull.es/es/idioma/detalle/A15050007/ingles-prueba-de-nivel-para-cursos-segundo-cuatrimestre'},\n",
            " {'$id': '17',\n",
            "  'Categoria': 'Zona Metropolitana',\n",
            "  'ECTS': None,\n",
            "  'FinImparticion': '2015-02-04T00:00:00',\n",
            "  'Horario': None,\n",
            "  'Horas': 1,\n",
            "  'ID': 'A15050166',\n",
            "  'InicioImparticion': '2015-01-12T00:00:00',\n",
            "  'MCER': None,\n",
            "  'Nivel': 'Prueba de nivel - Para preparatorios del FCE/CAE/CPE/IELTS',\n",
            "  'Profesorado': [{'$id': '18', 'NombreCompleto': 'Clive Tyrell'}],\n",
            "  'TipoFormacion': 'Presencial',\n",
            "  'Titulo': 'Inglés - Prueba de nivel - Para preparatorios del '\n",
            "            'FCE/CAE/CPE/IELTS',\n",
            "  'URL': 'https://sede.fg.ull.es/es/idioma/detalle/A15050166/ingles-prueba-de-nivel-para-preparatorios-del-fce-cae-cpe-ielts'},\n",
            " {'$id': '19',\n",
            "  'Categoria': 'Zona Metropolitana',\n",
            "  'ECTS': None,\n",
            "  'FinImparticion': '2015-02-09T00:00:00',\n",
            "  'Horario': None,\n",
            "  'Horas': 2,\n",
            "  'ID': 'A15050164',\n",
            "  'InicioImparticion': '2015-01-12T00:00:00',\n",
            "  'MCER': None,\n",
            "  'Nivel': 'Prueba de nivel - Para cursos segundo cuatrimestre',\n",
            "  'Profesorado': [{'$id': '20', 'NombreCompleto': 'Nicola Cataldo'}],\n",
            "  'TipoFormacion': 'Presencial',\n",
            "  'Titulo': 'Italiano - Prueba de nivel - Para cursos segundo cuatrimestre',\n",
            "  'URL': 'https://sede.fg.ull.es/es/idioma/detalle/A15050164/italiano-prueba-de-nivel-para-cursos-segundo-cuatrimestre'}]\n"
          ]
        }
      ]
    },
    {
      "cell_type": "markdown",
      "source": [
        "1. ¿Cuántas pruebas de idiomas están descritas en el documento?"
      ],
      "metadata": {
        "id": "kO1W7vbHzUgX"
      }
    },
    {
      "cell_type": "code",
      "source": [
        "def contar(pruebas):\n",
        "  cantidad=len(pruebas)\n",
        "  x=f\"La cantidad de pruebas descritas es: {cantidad}\"\n",
        "  return x\n",
        "print(contar(pruebas))"
      ],
      "metadata": {
        "colab": {
          "base_uri": "https://localhost:8080/"
        },
        "id": "ObTq3BTH0OoR",
        "outputId": "3cad204f-646f-4dc8-9a07-aa5fbb6e156f"
      },
      "execution_count": null,
      "outputs": [
        {
          "output_type": "stream",
          "name": "stdout",
          "text": [
            "La cantidad de pruebas descritas es: 7\n"
          ]
        }
      ]
    },
    {
      "cell_type": "markdown",
      "source": [
        "2. Devuelve el título de las pruebas de nivel que van a durar más de dos horas."
      ],
      "metadata": {
        "id": "BZjHOgIjxx06"
      }
    },
    {
      "cell_type": "code",
      "source": [
        "def PruebasMasDeDosHoras(doc):\n",
        "    titulos = []\n",
        "    for prueba in doc:\n",
        "        if prueba[\"Horas\"]>2:\n",
        "            titulos.append(prueba[\"Titulo\"])\n",
        "    return titulos\n",
        "print(PruebasMasDeDosHoras(pruebas))"
      ],
      "metadata": {
        "id": "aSYp7GHNx4SS",
        "colab": {
          "base_uri": "https://localhost:8080/"
        },
        "outputId": "e4abf05e-23fa-42fb-e9ee-0d161d2dee9e"
      },
      "execution_count": null,
      "outputs": [
        {
          "output_type": "stream",
          "name": "stdout",
          "text": [
            "['Inglés - Prueba de nivel - para cursos de Inglés para la Docencia y preparatorio de GESE Trinity', 'Inglés - Prueba de nivel - Para cursos segundo cuatrimestre']\n"
          ]
        }
      ]
    },
    {
      "cell_type": "markdown",
      "source": [
        "3.De las pruebas de tipo “No Presencial” devuelve la URL de información.\n"
      ],
      "metadata": {
        "id": "4KHUmN2-yrnQ"
      }
    },
    {
      "cell_type": "code",
      "source": [
        "def tipo(pruebas):\n",
        "  dictado={}\n",
        "  for t in pruebas:\n",
        "    if t[\"TipoFormacion\"]  == \"NoPresencial\":\n",
        "      dictado[t[\"Titulo\"]]= t[\"URL\"]\n",
        "    elif t[\"TipoFormacion\"]  == \"No Presencial\":\n",
        "      dictado[t[\"Titulo\"]]= t[\"URL\"]\n",
        "  return dictado\n",
        "print(tipo(pruebas))"
      ],
      "metadata": {
        "id": "OIqSQXhOyzzY",
        "colab": {
          "base_uri": "https://localhost:8080/"
        },
        "outputId": "1aa39f3b-1a97-4a3e-ad4b-f16c8ebe53a5"
      },
      "execution_count": null,
      "outputs": [
        {
          "output_type": "stream",
          "name": "stdout",
          "text": [
            "{'Alemán - Prueba de nivel - Para cursos segundo cuatrimestre': 'https://sede.fg.ull.es/es/idioma/detalle/A15050163/aleman-prueba-de-nivel-para-cursos-segundo-cuatrimestre', 'Español - Prueba de nivel - Para cursos segundo cuatrimestre': 'https://sede.fg.ull.es/es/idioma/detalle/A15050167/espa-ol-prueba-de-nivel-para-cursos-segundo-cuatrimestre'}\n"
          ]
        }
      ]
    },
    {
      "cell_type": "markdown",
      "source": [
        "4. Recibe el código de la prueba “ID” y muestra su título y profesores"
      ],
      "metadata": {
        "id": "IVnUgLAD42aQ"
      }
    },
    {
      "cell_type": "code",
      "source": [
        "id=str(input(\"Ingrese la ID :\"))\n",
        "def ID (dat):\n",
        "  profesores=\"\"\n",
        "  for i in pruebas:\n",
        "    if(i['ID']==dat):\n",
        "      for h in range(len(i['Profesorado'])):\n",
        "        profesores+=i['Profesorado'][h]['NombreCompleto']+\"\\n\"\n",
        "      print(i['Titulo']+\"\\nCon los profesores :\",\"\\n\",profesores)\n",
        "ID(id)"
      ],
      "metadata": {
        "id": "3WC5Wn8T46qI",
        "colab": {
          "base_uri": "https://localhost:8080/"
        },
        "outputId": "388620e8-bef7-4a20-89ce-510339ef6811"
      },
      "execution_count": null,
      "outputs": [
        {
          "output_type": "stream",
          "name": "stdout",
          "text": [
            "Ingrese la ID :A15050007\n",
            "Inglés - Prueba de nivel - Para cursos segundo cuatrimestre\n",
            "Con los profesores : \n",
            " María Luisa Capón Mouriz\n",
            "Richard James Murison\n",
            "María Isabel Rodríguez Rodríguez\n",
            "Beatriz Freire Betancor\n",
            "Peggy Gerd Henriksson Carlsson\n",
            "Eva Miriam Amaral Ribeiro Sampaio de Andrade\n",
            "Marta María González Orta\n",
            "\n"
          ]
        }
      ]
    },
    {
      "cell_type": "code",
      "source": [
        "def TituloProfesores(pruebas,id):\n",
        "  datos=[]\n",
        "  for i in pruebas:\n",
        "    if i[\"$id\"]==id:\n",
        "      datos.append(i[\"Titulo\"])\n",
        "      for j in i[\"Profesorado\"]:\n",
        "        datos.append(j[\"NombreCompleto\"])\n",
        "  return datos\n",
        "id=input(\"Ingrese el id: \")\n",
        "print(TituloProfesores(pruebas,id))"
      ],
      "metadata": {
        "id": "cdEkd_y7KWKp",
        "outputId": "67fbdf28-2c51-44ac-873e-046d29cbd340",
        "colab": {
          "base_uri": "https://localhost:8080/"
        }
      },
      "execution_count": 3,
      "outputs": [
        {
          "output_type": "stream",
          "name": "stdout",
          "text": [
            "Ingrese el id:9\n",
            "['Inglés - Prueba de nivel - Para cursos segundo cuatrimestre', 'María Luisa Capón Mouriz', 'Richard James Murison', 'María Isabel Rodríguez Rodríguez', 'Beatriz Freire Betancor', 'Peggy Gerd Henriksson Carlsson', 'Eva Miriam Amaral Ribeiro Sampaio de Andrade', 'Marta María González Orta']\n"
          ]
        }
      ]
    },
    {
      "cell_type": "markdown",
      "source": [
        "Crear un archivo “.json” con la información: \n",
        "\n",
        "Título y sus profesores. \n",
        "\n",
        "Luego validar el texto en https://jsonlint.com/, agregar imagen validada al archivo.ipynb y subir al repositorio grupal.\n"
      ],
      "metadata": {
        "id": "kYjAoPz18o2V"
      }
    },
    {
      "cell_type": "code",
      "source": [
        "#@title Texto de título predeterminado\n",
        "from pprint import pprint \n",
        "with open(\"/content/drive/MyDrive/Ficheros/Quiz.json\",\"w\") as write_file:\n",
        "  m=[]\n",
        "  for i in range(len(pruebas)):\n",
        "    aux={\n",
        "      i:{\n",
        "          \"Titulo\":pruebas[i]['Titulo'],\n",
        "          \"Profesores\":pruebas[i]['Profesorado']\n",
        "\n",
        "      }\n",
        "    }\n",
        "    m.append(aux)\n",
        "  json.dump(m,write_file)\n",
        "  jsstring=json.dumps(m)\n",
        "  pprint(jsstring)\n",
        " "
      ],
      "metadata": {
        "id": "3ROQThjL8vGF"
      },
      "execution_count": null,
      "outputs": []
    },
    {
      "cell_type": "markdown",
      "source": [
        "![json.PNG](data:image/png;base64,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)"
      ],
      "metadata": {
        "id": "OEC6iS-wxOe4"
      }
    }
  ]
}