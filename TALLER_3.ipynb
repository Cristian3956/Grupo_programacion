{
  "nbformat": 4,
  "nbformat_minor": 0,
  "metadata": {
    "colab": {
      "provenance": []
    },
    "kernelspec": {
      "name": "python3",
      "display_name": "Python 3"
    },
    "language_info": {
      "name": "python"
    }
  },
  "cells": [
    {
      "cell_type": "markdown",
      "source": [
        "Cree una imagen de un canal, es decir con una forma (alto, ancho) del tamaño que desee, donde la diagonal principal hacia arriba sea blanca y desde la diagonal hacia abajo sea negra."
      ],
      "metadata": {
        "id": "APgUnSyvtmBs"
      }
    },
    {
      "cell_type": "code",
      "source": [],
      "metadata": {
        "id": "ryW5wahMtpVh"
      },
      "execution_count": null,
      "outputs": []
    },
    {
      "cell_type": "markdown",
      "source": [
        "Use una imagen de la librería skimage, en la base de datos “data”.\n",
        "e implemente alguno de los siguientes procesos:"
      ],
      "metadata": {
        "id": "4k9HJxeqtuF5"
      }
    },
    {
      "cell_type": "markdown",
      "source": [
        "\n",
        "\n",
        "**Suavizar y resaltar contornos**\n"
      ],
      "metadata": {
        "id": "4vsUha9Dtykl"
      }
    },
    {
      "cell_type": "markdown",
      "source": [
        "**Restauración**\n"
      ],
      "metadata": {
        "id": "StbMPc5nuGIO"
      }
    }
  ]
}