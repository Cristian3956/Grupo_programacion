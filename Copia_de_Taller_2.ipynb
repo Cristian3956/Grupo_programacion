{
  "nbformat": 4,
  "nbformat_minor": 0,
  "metadata": {
    "colab": {
      "provenance": [],
      "collapsed_sections": [],
      "include_colab_link": true
    },
    "kernelspec": {
      "name": "python3",
      "display_name": "Python 3"
    },
    "language_info": {
      "name": "python"
    }
  },
  "cells": [
    {
      "cell_type": "markdown",
      "metadata": {
        "id": "view-in-github",
        "colab_type": "text"
      },
      "source": [
        "<a href=\"https://colab.research.google.com/github/Cristian3956/Grupo_programacion/blob/main/Copia_de_Taller_2.ipynb\" target=\"_parent\"><img src=\"https://colab.research.google.com/assets/colab-badge.svg\" alt=\"Open In Colab\"/></a>"
      ]
    },
    {
      "cell_type": "markdown",
      "source": [],
      "metadata": {
        "id": "j_KQp0megK1d"
      }
    },
    {
      "cell_type": "markdown",
      "source": [
        "1) Escriba un algoritmo que dado un número entero, indique si este valor es par o impar."
      ],
      "metadata": {
        "id": "9IQtv_4X57XI"
      }
    },
    {
      "cell_type": "code",
      "source": [
        "numero = 0  #Variable que tomara el valor final.\n",
        "numero = int(input(\"Indique un numero: \"))  # Valor entero ingresado por el usuario\n",
        "\n",
        "if (numero % 2) == 0:   # Si la division entera del numero es igual a 0, entonces imprime \"Su numero es par\"\n",
        "  print(numero, \"Su numero es par\")\n",
        "else:  # Si el resultado de la division entera es diferente a 0, entonces imprime \"Su numero es impar\"\n",
        "  print(numero, \" Su numero es impar\") "
      ],
      "metadata": {
        "id": "bVwa0UlX4C3D"
      },
      "execution_count": null,
      "outputs": []
    },
    {
      "cell_type": "markdown",
      "source": [
        "2) Escriba un algoritmo que pida un número y también un porcentaje entre 0 y 100 que puede ser decimal,  el algoritmo debe entregar el cálculo del porcentaje del primer número, Si el usuario ingresa un dato fuera del rango  (0 a 100), debe mostrar un error y volver a pedir el porcentaje.\n"
      ],
      "metadata": {
        "id": "HOVkZ_dY79ZK"
      }
    },
    {
      "cell_type": "code",
      "source": [
        "print (\"ingrese el % del 0 al 100 que desea calcular\")\n",
        "porcentaje= float(input())\n",
        "print (\"ingrese un numero\")\n",
        "num= float (input())\n",
        "resultado= porcentaje * num / 100\n",
        "print (\"el\",porcentaje,\"porciento de\",num,\"es\",round(resultado,2))"
      ],
      "metadata": {
        "id": "xOYc5WMMXHjg",
        "colab": {
          "base_uri": "https://localhost:8080/"
        },
        "outputId": "853aaa4a-fca0-4293-91e4-fb46135896ea"
      },
      "execution_count": null,
      "outputs": [
        {
          "output_type": "stream",
          "name": "stdout",
          "text": [
            "ingrese el % del 0 al 100 que desea calcular\n",
            "30.5\n",
            "ingrese un numero\n",
            "222\n",
            "el 30.5 porciendo es 222.0 es 67.71\n"
          ]
        }
      ]
    },
    {
      "cell_type": "markdown",
      "source": [
        "3) Con base en el primer Ejercicio, si el número indicado es par, entregar todos los números pares entre el 0 y el número.\n"
      ],
      "metadata": {
        "id": "KQa2zC2pETir"
      }
    },
    {
      "cell_type": "code",
      "source": [
        "print(\"Su numero es par y los numeros pares antes de el son:\")#Imprime esto para indicar el número par y los pares antes de el\n",
        "if (numero%2)==0: #Condición para validar si el número es par\n",
        "  for i in range(2,numero-1,2): #Toma el número e inicia un recorrido desde el dos, hasta un numero antes (impar) y va avanzando de dos en dos\n",
        "    print(i) #Imprime los números pares que tomo i"
      ],
      "metadata": {
        "id": "U_APtMyoFLHF",
        "outputId": "0c672537-34aa-44b6-c42d-ed1133b48931",
        "colab": {
          "base_uri": "https://localhost:8080/"
        }
      },
      "execution_count": null,
      "outputs": [
        {
          "output_type": "stream",
          "name": "stdout",
          "text": [
            "Su numero es par y los numeros pares antes de el son:\n",
            "2\n",
            "4\n",
            "6\n",
            "8\n",
            "10\n",
            "12\n",
            "14\n",
            "16\n",
            "18\n",
            "20\n",
            "22\n",
            "24\n",
            "26\n",
            "28\n",
            "30\n",
            "32\n",
            "34\n",
            "36\n",
            "38\n",
            "40\n",
            "42\n",
            "44\n",
            "46\n",
            "48\n",
            "50\n",
            "52\n",
            "54\n",
            "56\n",
            "58\n",
            "60\n",
            "62\n",
            "64\n",
            "66\n",
            "68\n",
            "70\n",
            "72\n",
            "74\n",
            "76\n",
            "78\n",
            "80\n",
            "82\n",
            "84\n"
          ]
        }
      ]
    },
    {
      "cell_type": "markdown",
      "source": [
        "4) Escriba un algoritmo que dado un número entero, entregue la suma de todos los números entre el 0 y el número dado.\n"
      ],
      "metadata": {
        "id": "oss-Kmt4EZLh"
      }
    },
    {
      "cell_type": "code",
      "source": [
        "num=int(input(\"Ingrese un número: \"))\n",
        "aux=0\n",
        "print(\"El resultado de la suma de 0 a\",num,\" es: \")\n",
        "for i in range(1,num):\n",
        "  aux+=i#Vatiable acumulativa\n",
        "  print(str(i),end='+')#Imprime cada numero de la suma , añade el simbolo (+) y permite seguir imprimiendo en la misma linea\n",
        "print(num,\"=\",aux+num)\n",
        "\n"
      ],
      "metadata": {
        "id": "wqvc6AABFZe9"
      },
      "execution_count": null,
      "outputs": []
    }
  ]
}