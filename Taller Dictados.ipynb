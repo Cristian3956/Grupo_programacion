{
  "cells": [
    {
      "cell_type": "markdown",
      "metadata": {
        "id": "view-in-github",
        "colab_type": "text"
      },
      "source": [
        "<a href=\"https://colab.research.google.com/github/Cristian3956/Grupo_programacion/blob/main/Taller%20Dictados.ipynb\" target=\"_parent\"><img src=\"https://colab.research.google.com/assets/colab-badge.svg\" alt=\"Open In Colab\"/></a>"
      ]
    },
    {
      "cell_type": "markdown",
      "source": [
        "Taller Dictados-Grupo 2"
      ],
      "metadata": {
        "id": "DiL6yu22bQLv"
      }
    },
    {
      "cell_type": "markdown",
      "source": [
        "Escribir un programa que pregunte al usuario su nombre, edad, dirección y teléfono, guarde la información en un diccionario.\n",
        " Después debe mostrar por pantalla el mensaje:\n",
        "<nombre> tiene <edad> años, vive en <dirección> y su número de teléfono es <teléfono>."
      ],
      "metadata": {
        "id": "12fgIy6Xqk-R"
      }
    },
    {
      "cell_type": "code",
      "source": [
        "nombre = input('¿Cómo te llamas? ')\n",
        "edad = input('¿Cuántos años tienes? ')\n",
        "direccion = input('¿Cuál es tu dirección? ')\n",
        "telefono = input('¿Cuál es tu número de teléfono? ')\n",
        "persona = {'nombre': nombre, 'edad': edad, 'direccion': direccion, 'telefono': telefono}\n",
        "print(persona['nombre'], 'tiene', persona['edad'], 'años, vive en', persona['direccion'], 'y su número de teléfono es', persona['telefono'])"
      ],
      "metadata": {
        "id": "CRuGY_bGqokq"
      },
      "execution_count": null,
      "outputs": []
    },
    {
      "cell_type": "markdown",
      "source": [
        "Escribir un programa que pregunte una fecha actual y de nacimiento ‘dd/mm/aaaa’ y muestre por pantalla la misma fecha en formato “dia/mes/aaaa” y sus días de vida son <####> no tenga en cuenta años bisiestos, "
      ],
      "metadata": {
        "id": "Hd2ek7-kax3E"
      }
    },
    {
      "cell_type": "code",
      "source": [],
      "metadata": {
        "id": "KxAkf8-NayVJ"
      },
      "execution_count": null,
      "outputs": []
    },
    {
      "cell_type": "markdown",
      "source": [
        "Escribir un programa que administre un dictado de dictados, {1:{},2:{},,,,,,,#:{}}.\n",
        "Debe preguntar a cada usuario, tres datos (los que definan), y a partir de estos crear un dictado por usuario.\n",
        "El dictado será de esta manera:\n",
        "\n",
        "*   La clave será un entero respectivo al orden en que el usuario ingresa los datos.\n",
        "*   El valor será un dictado con los tres datos del usuario elegidos.\n",
        "{‘dato1’:857,‘dato2’:True,‘dato3’:’dffd’}\n",
        "\n",
        "Ejemplo:\n",
        "\n",
        "*   \n",
        "{0:{‘dato1’:857,‘dato2’:True,‘dato3’:’dffd’},1:{‘dato1’:857,‘dato2’:True,‘dato3’:’dffd’}}\n",
        "\n",
        "Al final el programa imprimirá el primer(mínimo) usuario y el último(máximo) usuario con sus respectivos datos."
      ],
      "metadata": {
        "id": "2AaAIJpzayzm"
      }
    },
    {
      "cell_type": "code",
      "source": [
        "big_dic={}\n",
        "posicion=0\n",
        "x=\"Si\"\n",
        "z=\"No\"\n",
        "y=input(\"¿Desea agregar un usuario? \")\n",
        "while y==x:\n",
        "  dict1={}\n",
        "  big_dic[posicion]=dict1\n",
        "  dato1=input(\"Ingrese el dato 1: \")\n",
        "  dato2=input(\"Ingrese el dato 2: \")\n",
        "  dato3=input(\"Ingrese el dato 3: \")\n",
        "  dict1[\"dato1\"]=dato1\n",
        "  dict1[\"dato2\"]=dato2\n",
        "  dict1[\"dato3\"]=dato3\n",
        "  big_dic[posicion]=dict1\n",
        "  posicion+=1\n",
        "  y=input(\"¿Desea agregar un usuario? \")\n",
        "print(big_dic)"
      ],
      "metadata": {
        "id": "wQxSbFjZazXV"
      },
      "execution_count": null,
      "outputs": []
    }
  ],
  "metadata": {
    "colab": {
      "provenance": [],
      "include_colab_link": true
    },
    "kernelspec": {
      "display_name": "Python 3",
      "name": "python3"
    },
    "language_info": {
      "name": "python"
    }
  },
  "nbformat": 4,
  "nbformat_minor": 0
}